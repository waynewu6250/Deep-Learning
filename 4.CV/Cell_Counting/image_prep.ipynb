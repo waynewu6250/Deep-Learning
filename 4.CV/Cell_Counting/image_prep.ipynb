{
 "cells": [
  {
   "cell_type": "code",
   "execution_count": 65,
   "metadata": {},
   "outputs": [
    {
     "name": "stdout",
     "output_type": "stream",
     "text": [
      "['.DS_Store', '62x_Salac_Pa14wt_SaPa14wt=1-1,1-10,100-1,10-1_co_SCFM2_tile2x2_3-13-19_z17_t09_p5_m2.tif', '62x_Salac_Pa14wt_SaPa14wt1-11-10100-110-1_co_SCFM2_tile2x2_4-17-19_z19_t01_p3_m3.tif']\n"
     ]
    }
   ],
   "source": [
    "import cv2\n",
    "from PIL import Image\n",
    "import numpy as np\n",
    "import os\n",
    "print(os.listdir('./imgs'))"
   ]
  },
  {
   "cell_type": "code",
   "execution_count": 66,
   "metadata": {},
   "outputs": [],
   "source": [
    "slices = 2\n",
    "for img_path in os.listdir('./imgs'):\n",
    "    if img_path == '.DS_Store':\n",
    "        continue\n",
    "    img = cv2.imread(os.path.join('./imgs', img_path))\n",
    "    original_size = img.shape[0]\n",
    "    edge = original_size // slices\n",
    "    num = original_size / edge + 1\n",
    "    \n",
    "    count = 1\n",
    "    for x in range(slices):\n",
    "        for y in range(slices):\n",
    "            sub_img = img[x*edge:x*edge+edge,y*edge:y*edge+edge,:]\n",
    "            cv2.imwrite(os.path.join('./train', img_path)+'-{}.jpg'.format(count), sub_img) \n",
    "            count += 1"
   ]
  },
  {
   "cell_type": "code",
   "execution_count": 45,
   "metadata": {},
   "outputs": [
    {
     "name": "stderr",
     "output_type": "stream",
     "text": [
      "Lossy conversion from float64 to uint8. Range [0.0, 255.0]. Convert image to uint8 prior to saving to suppress this warning.\n"
     ]
    },
    {
     "data": {
      "image/png": "[encoded data removed]",
      "text/plain": [
       "<Figure size 432x288 with 2 Axes>"
      ]
     },
     "metadata": {
      "needs_background": "light"
     },
     "output_type": "display_data"
    },
    {
     "name": "stderr",
     "output_type": "stream",
     "text": [
      "Lossy conversion from float64 to uint8. Range [0.0, 7.490483983255796]. Convert image to uint8 prior to saving to suppress this warning.\n"
     ]
    }
   ],
   "source": [
    "import json\n",
    "import cv2\n",
    "import collections\n",
    "import numpy as np\n",
    "import matplotlib.pyplot as plt\n",
    "import imageio\n",
    "import scipy.ndimage as ndimage\n",
    "%matplotlib inline\n",
    "\n",
    "filename = 'train_imgs/62x_Salac_Pa14wt_SaPa14wt1-11-10100-110-1_co_SCFM2_tile2x2_4-17-19_z19_t01_p3_m3.tif-1'\n",
    "with open(filename+'.json', 'r') as f:\n",
    "    a = json.load(f)\n",
    "\n",
    "cache = collections.defaultdict(list)\n",
    "for item in a[\"shapes\"]:\n",
    "    point = item['points'][0]\n",
    "    cache[item['label']].append(point)\n",
    "\n",
    "img = cv2.imread(filename+'.jpg')\n",
    "size = img.shape[0]\n",
    "label = np.zeros((size, size, 3))\n",
    "\n",
    "\n",
    "X = []\n",
    "Y = []\n",
    "for (y, x) in cache['red']:\n",
    "    label[int(x)][int(y)][0] = 255.0\n",
    "    X.append(int(x))\n",
    "    Y.append(int(y))\n",
    "for (y, x) in cache['green']:\n",
    "    label[int(x)][int(y)][1] = 255.0\n",
    "    \n",
    "imageio.imwrite('label.png', label)\n",
    "\n",
    "# Gaussian Kernel\n",
    "red = 100.0 * (label[:,:,0] > 0)\n",
    "red = ndimage.gaussian_filter(red, sigma=(2, 2), order=0)\n",
    "green = 100.0 * (label[:,:,1] > 0)\n",
    "green = ndimage.gaussian_filter(green, sigma=(2, 2), order=0)\n",
    "\n",
    "plt.subplot(1,2,1)\n",
    "plt.imshow(red)\n",
    "plt.subplot(1,2,2)\n",
    "plt.imshow(green)\n",
    "plt.show()\n",
    "\n",
    "label[:,:,0] = red\n",
    "label[:,:,1] = green\n",
    "\n",
    "imageio.imwrite('density_map.png', label)"
   ]
  },
  {
   "cell_type": "code",
   "execution_count": 64,
   "metadata": {},
   "outputs": [
    {
     "data": {
      "text/plain": [
       "<matplotlib.contour.QuadContourSet at 0x120a02470>"
      ]
     },
     "execution_count": 64,
     "metadata": {},
     "output_type": "execute_result"
    },
    {
     "data": {
      "image/png": "[encoded data removed]",
      "text/plain": [
       "<Figure size 432x288 with 1 Axes>"
      ]
     },
     "metadata": {
      "needs_background": "light"
     },
     "output_type": "display_data"
    }
   ],
   "source": [
    "from scipy.stats import multivariate_normal\n",
    "x = X\n",
    "y = Y\n",
    "deltaX = (max(x) - min(x))/10\n",
    "deltaY = (max(y) - min(y))/10\n",
    "xmin = min(x) - deltaX\n",
    "xmax = max(x) + deltaX\n",
    "ymin = min(y) - deltaY\n",
    "ymax = max(y) + deltaY\n",
    "\n",
    "# Create meshgrid\n",
    "xx, yy = np.mgrid[xmin:xmax:100j, ymin:ymax:100j]\n",
    "pos = np.dstack((xx, yy))\n",
    "rv = multivariate_normal([42, 3], [[20.0, 0], [0, 20.0]])\n",
    "fig2 = plt.figure()\n",
    "ax2 = fig2.add_subplot(111)\n",
    "ax2.contourf(xx, yy, rv.pdf(pos))"
   ]
  },
  {
   "cell_type": "code",
   "execution_count": null,
   "metadata": {},
   "outputs": [],
   "source": []
  },
  {
   "cell_type": "code",
   "execution_count": null,
   "metadata": {},
   "outputs": [],
   "source": []
  }
 ],
 "metadata": {
  "kernelspec": {
   "display_name": "Python 3",
   "language": "python",
   "name": "python3"
  },
  "language_info": {
   "codemirror_mode": {
    "name": "ipython",
    "version": 3
   },
   "file_extension": ".py",
   "mimetype": "text/x-python",
   "name": "python",
   "nbconvert_exporter": "python",
   "pygments_lexer": "ipython3",
   "version": "3.7.3"
  }
 },
 "nbformat": 4,
 "nbformat_minor": 2
}
