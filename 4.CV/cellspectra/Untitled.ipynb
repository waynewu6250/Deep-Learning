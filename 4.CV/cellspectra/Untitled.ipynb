{
 "cells": [
  {
   "cell_type": "code",
   "execution_count": 35,
   "metadata": {},
   "outputs": [
    {
     "name": "stdout",
     "output_type": "stream",
     "text": [
      "[('BCARSImage', <HDF5 group \"/BCARSImage\" (1 members)>)]\n",
      "(420, 556, 1600)\n"
     ]
    }
   ],
   "source": [
    "import h5py\n",
    "with h5py.File('MOSAIC_Slices_8 9 10 11 12 13 _PROCESS_same.h5', 'r') as f:\n",
    "    base_items = list(f.items())\n",
    "    print(base_items)\n",
    "    G1 = f.get('/BCARSImage').get(\"/BCARSImage/Z97 to 105_58\").get(\"Z97 to 105_58_z13_SubDark_MergeNRBs_Anscombe_SVD_InvAnscombe_KK_PhaseErrorCorrectALS_ScaleErrorCorrectSG_SubtractROI\")\n",
    "    G1_items = np.array(G1[:])\n",
    "    print(G1_items.shape)"
   ]
  },
  {
   "cell_type": "code",
   "execution_count": 36,
   "metadata": {},
   "outputs": [
    {
     "name": "stdout",
     "output_type": "stream",
     "text": [
      "[('BCARSImage', <HDF5 group \"/BCARSImage\" (1 members)>)]\n",
      "(344, 392, 1600)\n"
     ]
    }
   ],
   "source": [
    "import h5py\n",
    "with h5py.File('MOSAIC_HCMV01_2018925_15_18_27_40030_PROCESS_2018925_16_29_5_508729_(3)_PROCESS_2019122_2_0_59_82982_December_2019.h5', 'r') as f:\n",
    "    base_items = list(f.items())\n",
    "    print(base_items)\n",
    "    G2 = f.get('/BCARSImage').get('/BCARSImage/AlgaeI_3_5ms_Pos_0_11').get('AlgaeI_3_5ms_Pos_0_11_z16-19_SubDark_Anscombe_SVD_InvAnscombe_MergeNRBs_KK_PhaseErrorCorrectALS_ScaleErrorCorrectSG_Continue_SubtractROI')\n",
    "    G2_items = np.array(G2[:])\n",
    "    print(G2_items.shape)"
   ]
  },
  {
   "cell_type": "code",
   "execution_count": null,
   "metadata": {},
   "outputs": [],
   "source": []
  }
 ],
 "metadata": {
  "kernelspec": {
   "display_name": "Python 3",
   "language": "python",
   "name": "python3"
  },
  "language_info": {
   "codemirror_mode": {
    "name": "ipython",
    "version": 3
   },
   "file_extension": ".py",
   "mimetype": "text/x-python",
   "name": "python",
   "nbconvert_exporter": "python",
   "pygments_lexer": "ipython3",
   "version": "3.7.3"
  }
 },
 "nbformat": 4,
 "nbformat_minor": 2
}
